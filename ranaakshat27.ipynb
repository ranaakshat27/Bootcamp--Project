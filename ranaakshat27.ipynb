{
  "nbformat": 4,
  "nbformat_minor": 0,
  "metadata": {
    "colab": {
      "name": "ranaakshat27.ipynb",
      "provenance": [],
      "authorship_tag": "ABX9TyMuGJCxa2rB3nfNhDBr9Y2T",
      "include_colab_link": true
    },
    "kernelspec": {
      "name": "python3",
      "display_name": "Python 3"
    },
    "language_info": {
      "name": "python"
    }
  },
  "cells": [
    {
      "cell_type": "markdown",
      "metadata": {
        "id": "view-in-github",
        "colab_type": "text"
      },
      "source": [
        "<a href=\"https://colab.research.google.com/github/ranaakshat27/Bootcamp--Project/blob/main/ranaakshat27.ipynb\" target=\"_parent\"><img src=\"https://colab.research.google.com/assets/colab-badge.svg\" alt=\"Open In Colab\"/></a>"
      ]
    },
    {
      "cell_type": "code",
      "metadata": {
        "id": "LeJNusdKgSJs",
        "colab": {
          "base_uri": "https://localhost:8080/"
        },
        "outputId": "2229d641-372d-4fd6-c51d-0c2807b0e17e"
      },
      "source": [
        "\n",
        "\n",
        "# Python program to find current\n",
        "# weather details of any city\n",
        "# using openweathermap api\n",
        "\n",
        "# import required modules\n",
        "import requests, json\n",
        "\n",
        "# Enter your API key here\n",
        "api_key = \"9b88e5fee51d171d8540f16847d14fdb\"\n",
        "\n",
        "# base_url variable to store url\n",
        "base_url = \"http://api.openweathermap.org/data/2.5/weather?\"\n",
        "\n",
        "# Give city name\n",
        "city_name = input(\"Enter city name : \")\n",
        "\n",
        "# complete_url variable to store\n",
        "# complete url address\n",
        "complete_url = base_url + \"appid=\" + api_key + \"&q=\" + city_name\n",
        "\n",
        "# get method of requests module\n",
        "# return response object\n",
        "response = requests.get(complete_url)\n",
        "\n",
        "# json method of response object\n",
        "# convert json format data into\n",
        "# python format data\n",
        "x = response.json()\n",
        "\n",
        "# Now x contains list of nested dictionaries\n",
        "# Check the value of \"cod\" key is equal to\n",
        "# \"404\", means city is found otherwise,\n",
        "# city is not found\n",
        "if x[\"cod\"] != \"404\":\n",
        "\n",
        "# store the value of \"main\"\n",
        "# key in variable y\n",
        " y = x[\"main\"]\n",
        "\n",
        "# store the value corresponding\n",
        "# to the \"temp\" key of y\n",
        "current_temperature = y[\"temp\"]\n",
        "\n",
        "# store the value corresponding\n",
        "# to the \"pressure\" key of y\n",
        "current_pressure = y[\"pressure\"]\n",
        "\n",
        "# store the value corresponding\n",
        "# to the \"humidity\" key of y\n",
        "current_humidity = y[\"humidity\"]\n",
        "\n",
        "# store the value of \"weather\"\n",
        "# key in variable z\n",
        "z = x[\"weather\"]\n",
        "\n",
        "# store the value corresponding\n",
        "# to the \"description\" key at\n",
        "# the 0th index of z\n",
        "weather_description = z[0][\"description\"]\n",
        "\n",
        "\n",
        "\n",
        "  \n",
        "\n"
      ],
      "execution_count": 4,
      "outputs": [
        {
          "output_type": "stream",
          "text": [
            "Enter city name : patna\n"
          ],
          "name": "stdout"
        }
      ]
    },
    {
      "cell_type": "code",
      "metadata": {
        "id": "u-a6JgVnslLc",
        "colab": {
          "base_uri": "https://localhost:8080/"
        },
        "outputId": "1e2b25dc-72db-42d5-b5fe-a878d27c1ad2"
      },
      "source": [
        "f = open(\"myfile2.txt\", \"x\")\n",
        "f = open(\"myfile2.txt\", \"w\")\n",
        "f.write(\" Temperature (in kelvin unit) = \" +  \n",
        "        str(current_temperature) +\n",
        "    \"\\n atmospheric pressure (in hPa unit) = \" +\n",
        "       str(current_pressure) +\n",
        "      \"\\n humidity (in percentage) = \" +\n",
        "        str(current_humidity) +\n",
        "         \"\\n description = \" +\n",
        "         str(weather_description))\n",
        "f.close()\n",
        "f = open(\"myfile2.txt\", \"r\")\n",
        "print(f.read())"
      ],
      "execution_count": 6,
      "outputs": [
        {
          "output_type": "stream",
          "text": [
            " Temperature (in kelvin unit) = 301.11\n",
            " atmospheric pressure (in hPa unit) = 1000\n",
            " humidity (in percentage) = 78\n",
            " description = haze\n"
          ],
          "name": "stdout"
        }
      ]
    },
    {
      "cell_type": "code",
      "metadata": {
        "id": "z1WvIAnpDrMm"
      },
      "source": [
        ""
      ],
      "execution_count": null,
      "outputs": []
    },
    {
      "cell_type": "code",
      "metadata": {
        "id": "yZ9XwJn_CyHF"
      },
      "source": [
        ""
      ],
      "execution_count": null,
      "outputs": []
    },
    {
      "cell_type": "code",
      "metadata": {
        "id": "I49q8sPyC_Vy"
      },
      "source": [
        ""
      ],
      "execution_count": null,
      "outputs": []
    }
  ]
}